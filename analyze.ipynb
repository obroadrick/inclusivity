{
 "cells": [
  {
   "cell_type": "code",
   "execution_count": 11,
   "metadata": {},
   "outputs": [],
   "source": [
    "import pandas as pd"
   ]
  },
  {
   "cell_type": "code",
   "execution_count": 12,
   "metadata": {},
   "outputs": [
    {
     "data": {
      "text/html": [
       "<div>\n",
       "<style scoped>\n",
       "    .dataframe tbody tr th:only-of-type {\n",
       "        vertical-align: middle;\n",
       "    }\n",
       "\n",
       "    .dataframe tbody tr th {\n",
       "        vertical-align: top;\n",
       "    }\n",
       "\n",
       "    .dataframe thead th {\n",
       "        text-align: right;\n",
       "    }\n",
       "</style>\n",
       "<table border=\"1\" class=\"dataframe\">\n",
       "  <thead>\n",
       "    <tr style=\"text-align: right;\">\n",
       "      <th></th>\n",
       "      <th>Timestamp</th>\n",
       "      <th>Please rate the inclusivity of this department based on your experience.</th>\n",
       "      <th>Please share any ideas for how we can make our department more inclusive.</th>\n",
       "      <th>If you can identify a problem with the inclusivity of our department but have no ideas for ways to improve it, you are still welcome to share your thoughts here if you would like.</th>\n",
       "      <th>Your name? (only if you want your responses to be publicly associated with your name)</th>\n",
       "      <th>Pronouns?</th>\n",
       "      <th>Gender identity?</th>\n",
       "      <th>Race/ethnic group or groups?</th>\n",
       "      <th>Disability status?</th>\n",
       "      <th>Anything else?</th>\n",
       "      <th>Class?</th>\n",
       "    </tr>\n",
       "  </thead>\n",
       "  <tbody>\n",
       "    <tr>\n",
       "      <th>0</th>\n",
       "      <td>2/20/2022 18:49:18</td>\n",
       "      <td>2.0</td>\n",
       "      <td>There needs to be more encouragement of women ...</td>\n",
       "      <td>NaN</td>\n",
       "      <td>NaN</td>\n",
       "      <td>she/her</td>\n",
       "      <td>female</td>\n",
       "      <td>white</td>\n",
       "      <td>NaN</td>\n",
       "      <td>NaN</td>\n",
       "      <td>NaN</td>\n",
       "    </tr>\n",
       "    <tr>\n",
       "      <th>1</th>\n",
       "      <td>2/20/2022 18:51:50</td>\n",
       "      <td>3.0</td>\n",
       "      <td>NaN</td>\n",
       "      <td>NaN</td>\n",
       "      <td>NaN</td>\n",
       "      <td>she/ her</td>\n",
       "      <td>Female</td>\n",
       "      <td>White</td>\n",
       "      <td>NaN</td>\n",
       "      <td>NaN</td>\n",
       "      <td>NaN</td>\n",
       "    </tr>\n",
       "    <tr>\n",
       "      <th>2</th>\n",
       "      <td>2/20/2022 19:12:09</td>\n",
       "      <td>2.0</td>\n",
       "      <td>To begin classes, professors could describe ch...</td>\n",
       "      <td>In groups of students, women are disproportion...</td>\n",
       "      <td>NaN</td>\n",
       "      <td>he/him</td>\n",
       "      <td>man</td>\n",
       "      <td>white</td>\n",
       "      <td>none</td>\n",
       "      <td>NaN</td>\n",
       "      <td>2022.0</td>\n",
       "    </tr>\n",
       "    <tr>\n",
       "      <th>3</th>\n",
       "      <td>2/20/2022 19:24:52</td>\n",
       "      <td>3.0</td>\n",
       "      <td>NaN</td>\n",
       "      <td>NaN</td>\n",
       "      <td>NaN</td>\n",
       "      <td>NaN</td>\n",
       "      <td>NaN</td>\n",
       "      <td>NaN</td>\n",
       "      <td>NaN</td>\n",
       "      <td>NaN</td>\n",
       "      <td>NaN</td>\n",
       "    </tr>\n",
       "    <tr>\n",
       "      <th>4</th>\n",
       "      <td>2/20/2022 19:38:11</td>\n",
       "      <td>2.0</td>\n",
       "      <td>1. Professors and teaching staff should start ...</td>\n",
       "      <td>1. I'm not sure what a larger solution is to t...</td>\n",
       "      <td>Catherine Meadows</td>\n",
       "      <td>she/her</td>\n",
       "      <td>Female</td>\n",
       "      <td>White, Asian</td>\n",
       "      <td>NaN</td>\n",
       "      <td>NaN</td>\n",
       "      <td>2022.0</td>\n",
       "    </tr>\n",
       "  </tbody>\n",
       "</table>\n",
       "</div>"
      ],
      "text/plain": [
       "            Timestamp  \\\n",
       "0  2/20/2022 18:49:18   \n",
       "1  2/20/2022 18:51:50   \n",
       "2  2/20/2022 19:12:09   \n",
       "3  2/20/2022 19:24:52   \n",
       "4  2/20/2022 19:38:11   \n",
       "\n",
       "   Please rate the inclusivity of this department based on your experience.  \\\n",
       "0                                                2.0                          \n",
       "1                                                3.0                          \n",
       "2                                                2.0                          \n",
       "3                                                3.0                          \n",
       "4                                                2.0                          \n",
       "\n",
       "  Please share any ideas for how we can make our department more inclusive.  \\\n",
       "0  There needs to be more encouragement of women ...                          \n",
       "1                                                NaN                          \n",
       "2  To begin classes, professors could describe ch...                          \n",
       "3                                                NaN                          \n",
       "4  1. Professors and teaching staff should start ...                          \n",
       "\n",
       "  If you can identify a problem with the inclusivity of our department but have no ideas for ways to improve it, you are still welcome to share your thoughts here if you would like.  \\\n",
       "0                                                NaN                                                                                                                                    \n",
       "1                                                NaN                                                                                                                                    \n",
       "2  In groups of students, women are disproportion...                                                                                                                                    \n",
       "3                                                NaN                                                                                                                                    \n",
       "4  1. I'm not sure what a larger solution is to t...                                                                                                                                    \n",
       "\n",
       "  Your name? (only if you want your responses to be publicly associated with your name)  \\\n",
       "0                                                NaN                                      \n",
       "1                                                NaN                                      \n",
       "2                                                NaN                                      \n",
       "3                                                NaN                                      \n",
       "4                                  Catherine Meadows                                      \n",
       "\n",
       "  Pronouns? Gender identity? Race/ethnic group or groups? Disability status?  \\\n",
       "0   she/her           female                        white                NaN   \n",
       "1  she/ her           Female                        White                NaN   \n",
       "2    he/him              man                        white               none   \n",
       "3       NaN              NaN                          NaN                NaN   \n",
       "4   she/her           Female                White, Asian                 NaN   \n",
       "\n",
       "  Anything else?  Class?  \n",
       "0            NaN     NaN  \n",
       "1            NaN     NaN  \n",
       "2            NaN  2022.0  \n",
       "3            NaN     NaN  \n",
       "4            NaN  2022.0  "
      ]
     },
     "execution_count": 12,
     "metadata": {},
     "output_type": "execute_result"
    }
   ],
   "source": [
    "df = pd.read_csv('raw_results.csv')\n",
    "cols = df.columns\n",
    "df.head()"
   ]
  },
  {
   "cell_type": "code",
   "execution_count": 18,
   "metadata": {},
   "outputs": [
    {
     "name": "stdout",
     "output_type": "stream",
     "text": [
      "3.7419354838709675\n"
     ]
    }
   ],
   "source": [
    "print(df[cols[1]].mean()) "
   ]
  },
  {
   "cell_type": "code",
   "execution_count": 22,
   "metadata": {},
   "outputs": [
    {
     "data": {
      "text/plain": [
       "[<matplotlib.lines.Line2D at 0x125c5d090>]"
      ]
     },
     "execution_count": 22,
     "metadata": {},
     "output_type": "execute_result"
    }
   ],
   "source": [
    "avgs = [3.1,3.666666667,3.590909091,4.4]\n",
    "import matplotlib.pyplot as plt\n",
    "plt.plot(avgs)\n",
    "plt.show()"
   ]
  }
 ],
 "metadata": {
  "interpreter": {
   "hash": "281560f791739c4e0de94932d9e6bdf2597dd77f4cc402313dd66984748d19fe"
  },
  "kernelspec": {
   "display_name": "Python 3.7.11 ('base')",
   "language": "python",
   "name": "python3"
  },
  "language_info": {
   "codemirror_mode": {
    "name": "ipython",
    "version": 3
   },
   "file_extension": ".py",
   "mimetype": "text/x-python",
   "name": "python",
   "nbconvert_exporter": "python",
   "pygments_lexer": "ipython3",
   "version": "3.7.11"
  },
  "orig_nbformat": 4
 },
 "nbformat": 4,
 "nbformat_minor": 2
}
